{
  "nbformat": 4,
  "nbformat_minor": 0,
  "metadata": {
    "colab": {
      "name": "ProgettoAIM.ipynb",
      "provenance": [],
      "collapsed_sections": [
        "t68MYk9fukmZ"
      ],
      "include_colab_link": true
    },
    "kernelspec": {
      "name": "python3",
      "display_name": "Python 3"
    },
    "accelerator": "GPU"
  },
  "cells": [
    {
      "cell_type": "markdown",
      "metadata": {
        "id": "view-in-github",
        "colab_type": "text"
      },
      "source": [
        "<a href=\"https://colab.research.google.com/github/antocommi/provagcp/blob/master/finetuning2.ipynb\" target=\"_parent\"><img src=\"https://colab.research.google.com/assets/colab-badge.svg\" alt=\"Open In Colab\"/></a>"
      ]
    },
    {
      "cell_type": "markdown",
      "metadata": {
        "id": "xPOa60j-cQ73"
      },
      "source": [
        "Required modules \r\n",
        "----"
      ]
    },
    {
      "cell_type": "code",
      "metadata": {
        "id": "3RHLRE_rdwjr"
      },
      "source": [
        "# # DOPO AVER ESEGUITO QUESTA CELLA RIAVVIARE IL RUNTIME!\n",
        "\n",
        "!pip install -U torch torchvision cython\n",
        "!pip install -U 'git+https://github.com/facebookresearch/fvcore.git' 'git+https://github.com/cocodataset/cocoapi.git#subdirectory=PythonAPI'\n",
        "!git clone https://github.com/facebookresearch/detectron2 detectron2_repo\n",
        "!pip install -e detectron2_repo\n",
        "\n",
        "!git clone https://github.com/facebookresearch/slowfast\n",
        "\n",
        "%cd slowfast\n",
        "!python setup.py build develop\n",
        "\n",
        "!export PYTHONPATH=/path/to/SlowFast/slowfast:$PYTHONPATH\n",
        "\n",
        "# # DOPO AVER ESEGUITO QUESTA CELLA RIAVVIARE IL RUNTIME!"
      ],
      "execution_count": null,
      "outputs": []
    },
    {
      "cell_type": "code",
      "metadata": {
        "id": "ShTSrpSncN4p"
      },
      "source": [
        "from slowfast.config.defaults import get_cfg\r\n",
        "from slowfast.models import build_model\r\n",
        "from slowfast.utils.checkpoint import load_checkpoint\r\n",
        "import wget"
      ],
      "execution_count": null,
      "outputs": []
    },
    {
      "cell_type": "code",
      "metadata": {
        "id": "Nq8uD48_c4KD"
      },
      "source": [
        "!pip install -q -U albumentations "
      ],
      "execution_count": null,
      "outputs": []
    },
    {
      "cell_type": "markdown",
      "metadata": {
        "id": "i7toodb0ceWQ"
      },
      "source": [
        "Dependencies\r\n",
        "-----"
      ]
    },
    {
      "cell_type": "code",
      "metadata": {
        "id": "mecebytbcLrw",
        "colab": {
          "base_uri": "https://localhost:8080/"
        },
        "outputId": "ce9a8829-2d03-4487-cb4d-75db19de8922"
      },
      "source": [
        "SEED = 9126\n",
        "\n",
        "\n",
        "\n",
        "import os, cv2, json, time, math, sys, pickle, collections, PIL\n",
        "from datetime import datetime\n",
        "\n",
        "import torch\n",
        "import torch.nn as nn\n",
        "import torch.nn.functional as F\n",
        "from torch.utils.data import Dataset, DataLoader\n",
        "import torchvision\n",
        "from torchvision import transforms\n",
        "from torch.optim.lr_scheduler import ReduceLROnPlateau\n",
        "import albumentations as A\n",
        "\n",
        "\n",
        "from PIL import Image\n",
        "import pandas as pd\n",
        "import numpy as np\n",
        "np.random.seed(SEED)\n",
        "import seaborn as sn\n",
        "\n",
        "#from vmz import models\n",
        "#import mmaction\n",
        "\n",
        "import matplotlib.pyplot as plt\n",
        "%matplotlib inline\n",
        "\n",
        "from sklearn.metrics import classification_report, confusion_matrix\n",
        "from sklearn.utils import compute_class_weight\n",
        "from sklearn.model_selection import train_test_split, StratifiedKFold\n",
        "\n",
        "from google.colab import drive\n",
        "drive.mount('/content/drive')\n",
        "\n",
        "np.random.seed(SEED)\n",
        "torch.manual_seed(SEED)\n",
        "torch.backends.cudnn.deterministic = True\n",
        "torch.backends.cudnn.benchmark = False\n",
        "USE_CUDA = True\n",
        "CUDA = USE_CUDA and torch.cuda.is_available()\n",
        "device = torch.device(\"cuda\" if CUDA else \"cpu\")\n",
        "if CUDA:\n",
        "    print('run on %s' % device)"
      ],
      "execution_count": 1,
      "outputs": [
        {
          "output_type": "stream",
          "text": [
            "Drive already mounted at /content/drive; to attempt to forcibly remount, call drive.mount(\"/content/drive\", force_remount=True).\n",
            "run on cuda\n"
          ],
          "name": "stdout"
        }
      ]
    },
    {
      "cell_type": "markdown",
      "metadata": {
        "id": "6Z3LYU1fmiXE"
      },
      "source": [
        "\n",
        "Importing from Kaggle\n",
        "===="
      ]
    },
    {
      "cell_type": "code",
      "metadata": {
        "colab": {
          "base_uri": "https://localhost:8080/"
        },
        "id": "DIzdgV3ecyxy",
        "outputId": "be365a8e-9ac3-4136-fb7d-02b1c466eb0f"
      },
      "source": [
        "# Download and load in memory dataset from kaggle\n",
        "!mkdir ~/.kaggle #create the .kaggle folder in your root directory\n",
        "!echo '{\"username\":\"antocommii\",\"key\":\"87dcebd7c4cb4ba4539ed72f027fcbde\"}' > ~/.kaggle/kaggle.json #write kaggle API credentials to kaggle.json\n",
        "!chmod 600 ~/.kaggle/kaggle.json  # set permissions\n",
        "!kaggle datasets download --unzip --force antocommii/spacejam-action-recognition -p /content/kaggle/\n",
        "\n",
        "# abbiamo 10 classi\n",
        "num_classes = 10\n",
        "\n",
        "# il dataset è ciò che si ottiene dal metodo precedente\n",
        "ROOT_DIR = \"/content/kaggle/\"\n",
        "VIDEO_DIR = \"/content/kaggle/examples/\"\n",
        "ANNOTATION_FILE = \"annotation_dict.json\"\n",
        "TEST_SET_FILE = \"testset_keys_1lug2020.txt\"\n",
        "\n",
        "# prendo il dataset da annotation file\n",
        "with open(os.path.join(ROOT_DIR, ANNOTATION_FILE)) as fp:\n",
        "  annotations = json.load(fp)\n",
        "            \n",
        "with open(os.path.join(ROOT_DIR, TEST_SET_FILE)) as fp:\n",
        "  keys_test = json.load(fp)\n",
        "\n",
        "# divido in train e test second quello che ho nel file\n",
        "annotationTrain = dict(filter(lambda x: x[0] not in keys_test, annotations.items()))\n",
        "annotationTest = dict(filter(lambda x: x[0] in keys_test, annotations.items()))\n",
        "test_set = list(annotationTest.items())\n",
        "\n",
        "# divido in train e validation\n",
        "test_size = 0.2\n",
        "train_set, valid_set = train_test_split(list(annotationTrain.items()), random_state=456, test_size=test_size, stratify=list(annotationTrain.values()))"
      ],
      "execution_count": 2,
      "outputs": [
        {
          "output_type": "stream",
          "text": [
            "mkdir: cannot create directory ‘/root/.kaggle’: File exists\n",
            "Downloading spacejam-action-recognition.zip to /content/kaggle\n",
            " 97% 608M/626M [00:04<00:00, 130MB/s]\n",
            "100% 626M/626M [00:05<00:00, 131MB/s]\n"
          ],
          "name": "stdout"
        }
      ]
    },
    {
      "cell_type": "markdown",
      "metadata": {
        "id": "8kOOsPYPmlch"
      },
      "source": [
        "Scelgo nuova size e definisco la struttura del Custom Dataset\n",
        "===="
      ]
    },
    {
      "cell_type": "code",
      "metadata": {
        "id": "5e5I2kBycS9D"
      },
      "source": [
        "class CustomSet(torch.utils.data.Dataset):\n",
        "    def __init__(self, videos_dir, list_dataset, transform):\n",
        "        \"\"\" Construct an indexed list of video paths and labels \"\"\"\n",
        "        self.transform = transform\n",
        "        self.VIDEO_DIR = videos_dir\n",
        "        self.dataset = list_dataset\n",
        "        # mean = [0.485,0.456,0.406]\n",
        "        mean = [0.43216, 0.394666, 0.37645]\n",
        "        # std = [0.229,0.224,0.225]\n",
        "        std = [0.22803, 0.22145, 0.216989]\n",
        "        self.toTensor = transforms.Compose([\n",
        "                                            transforms.ToTensor(),\n",
        "                                            transforms.Normalize(mean, std)\n",
        "        ])\n",
        "\n",
        "    def __getitem__(self, index, is_for_testing=True):\n",
        "        \"\"\" Load video n in the list of image paths and return it along with its label.\n",
        "            In the case of multiclass the label will probably be a list of values\"\"\"\n",
        "        \n",
        "        name, label = self.dataset[index]\n",
        "        \n",
        "        fname = os.path.join(self.VIDEO_DIR, name+'.mp4')\n",
        "        \n",
        "        video = []\n",
        "        vid = cv2.VideoCapture(fname)\n",
        "        while True:\n",
        "            # Capture frame-by-frame\n",
        "            ret, frame = vid.read()\n",
        "            if ret != True:\n",
        "              break\n",
        "            frame = cv2.cvtColor(frame, cv2.COLOR_BGR2RGB)\n",
        "            frame = self.transform(image=np.array(frame))['image']\n",
        "            frame = self.toTensor(Image.fromarray(frame))\n",
        "            video.append(frame)\n",
        "\n",
        "        video = torch.stack(video)\n",
        "        video = torch.transpose(video, 1, 0)\n",
        "        return {'video':video, 'label':torch.LongTensor([label])}\n",
        "        \n",
        "\n",
        "    def __len__(self):\n",
        "        \"\"\" return the total number of video in this dataset \"\"\"\n",
        "        return len(self.dataset)\n",
        "\n",
        "    def get_list(self):\n",
        "      return self.dataset"
      ],
      "execution_count": 3,
      "outputs": []
    },
    {
      "cell_type": "markdown",
      "metadata": {
        "id": "khmMq62-mtba"
      },
      "source": [
        "Creazione Train, Validation e Test set\n",
        "===="
      ]
    },
    {
      "cell_type": "code",
      "metadata": {
        "colab": {
          "base_uri": "https://localhost:8080/"
        },
        "id": "wyvNusIhhr47",
        "outputId": "cb3f8a83-0cfc-4405-835d-c30e451d2500"
      },
      "source": [
        "crop_H, crop_W = 176,60\n",
        "new_H, new_W = 112,112\n",
        "print(\"New Size: \",new_H,new_W)\n",
        "print(\"Crop Size: \",176, 80)\n",
        "\n",
        "A_train = A.Compose([\n",
        "                     A.augmentations.transforms.CenterCrop(crop_H, crop_W, p=1),\n",
        "                     A.augmentations.Resize(new_H, new_W, interpolation=4, p=1),\n",
        "                     A.augmentations.transforms.CLAHE(clip_limit=4.0, p=1)\n",
        "                     #A.augmentations.transforms.FancyPCA(alpha=.5, p=1)\n",
        "                     ])\n",
        "\n",
        "A_test = A.Compose([\n",
        "                     A.augmentations.transforms.CenterCrop(crop_H, crop_W, p=1),\n",
        "                     #A.augmentations.Resize(new_H, new_W, interpolation=4, p=1)\n",
        "                     ])\n",
        "\n",
        "\n",
        "# trasformo in custom_dataset\n",
        "train_ds = CustomSet(VIDEO_DIR, train_set, A_train)\n",
        "valid_ds = CustomSet(VIDEO_DIR, valid_set, A_test)\n",
        "test_ds = CustomSet(VIDEO_DIR, test_set, A_test)\n",
        "\n",
        "# definisco le batch_size\n",
        "BATCH_TRAIN_SIZE, BATCH_TEST_SIZE = 16,16\n",
        "\n",
        "# creo i dataloader\n",
        "trainLoader = DataLoader(train_ds, batch_size=BATCH_TRAIN_SIZE, shuffle=True)\n",
        "validLoader = DataLoader(valid_ds, batch_size=BATCH_TEST_SIZE, shuffle=True)\n",
        "testLoader = DataLoader(test_ds, batch_size=BATCH_TEST_SIZE, shuffle=True)\n",
        "\n",
        "# controllo se hanno la stessa forma di lista di tuple\n",
        "print(len(trainLoader), len(validLoader), len(testLoader))\n",
        "print(train_set[0])"
      ],
      "execution_count": 4,
      "outputs": [
        {
          "output_type": "stream",
          "text": [
            "New Size:  112 112\n",
            "Crop Size:  176 80\n",
            "1298 325 696\n",
            "('0011804', 9)\n"
          ],
          "name": "stdout"
        }
      ]
    },
    {
      "cell_type": "code",
      "metadata": {
        "id": "6x-SdKzk0GRe"
      },
      "source": [
        "labels_dict = {0 : \"block\", 1 : \"pass\", 2 : \"run\", 3: \"dribble\",4: \"shoot\",\n",
        "          5 : \"ball in hand\", 6 : \"defense\", 7: \"pick\" , 8 : \"no_action\" , \n",
        "          9: \"walk\" ,10: \"discard\"}\n",
        "\n",
        "for item in trainLoader:\n",
        "  video = item['video'][0]\n",
        "  label = item['label'][0]\n",
        "  break\n",
        "clip = torch.transpose(video, 0, 1)\n",
        "\n",
        "print(labels_dict[label.item()])\n",
        "plt.figure(figsize=(12, 12))\n",
        "for i in range(clip.shape[0]):\n",
        "  plt.subplot(4,4, i+1)\n",
        "  video = clip[i]\n",
        "  trans = transforms.ToPILImage(mode=\"RGB\")\n",
        "  video = trans(video)\n",
        "  plt.imshow(video)\n",
        "plt.show()"
      ],
      "execution_count": null,
      "outputs": []
    },
    {
      "cell_type": "markdown",
      "metadata": {
        "id": "eyocvCWEmyf0"
      },
      "source": [
        "Build modello\n",
        "===="
      ]
    },
    {
      "cell_type": "markdown",
      "metadata": {
        "id": "MpJRoMtT7jCH"
      },
      "source": [
        "Rete SlowFast - pre-trained\r\n",
        "--- \r\n",
        "https://github.com/facebookresearch/SlowFast/blob/master/MODEL_ZOO.md"
      ]
    },
    {
      "cell_type": "code",
      "metadata": {
        "id": "EnS_Xs-V7wbt"
      },
      "source": [
        "cfg = get_cfg()\r\n",
        "cfg.merge_from_file('./slowfast/configs/Kinetics/c2/SLOWFAST_4x16_R50.yaml')\r\n",
        "url = 'https://dl.fbaipublicfiles.com/pyslowfast/model_zoo/kinetics400/SLOWFAST_4x16_R50.pkl'\r\n",
        "\r\n",
        "filename = wget.download(url)\r\n",
        "cfg.TRAIN.CHECKPOINT_FILE_PATH = url\r\n",
        "cfg.TRAIN.CHECKPOINT_FILE_PATH = filename + 'skdosjd'\r\n",
        "cfg.TRAIN.CHECKPOINT_EPOCH_RESET = True\r\n",
        "cfg.NUM_GPUS = 1\r\n",
        "cfg.TRAIN.BATCH_SIZE = BATCH_TRAIN_SIZE\r\n",
        "cfg.DATA.NUM_FRAMES = 16\r\n",
        "model = build_model(cfg)\r\n",
        "r = load_checkpoint(filename,model,data_parallel=False,convert_from_caffe2=True)"
      ],
      "execution_count": null,
      "outputs": []
    },
    {
      "cell_type": "code",
      "metadata": {
        "id": "r1cr0T598VHp"
      },
      "source": [
        "for param in model.parameters():\r\n",
        "    param.requires_grad = False\r\n",
        "\r\n",
        "n_inputs = model.head.projection.in_features\r\n",
        "print(n_inputs)\r\n",
        "model.head.projection = nn.Linear(n_inputs, 10)"
      ],
      "execution_count": null,
      "outputs": []
    },
    {
      "cell_type": "markdown",
      "metadata": {
        "id": "RVIiOuI_afG4"
      },
      "source": [
        "Rete SlowFast\r\n",
        "----\r\n",
        "\r\n",
        "https://github.com/r1ch88/SlowFastNetworks/blob/master/lib/slowfastnet.py"
      ]
    },
    {
      "cell_type": "code",
      "metadata": {
        "id": "QWcB_XNyadot"
      },
      "source": [
        "_all__ = ['resnet50', 'resnet101','resnet152', 'resnet200']\r\n",
        "\r\n",
        "\r\n",
        "\r\n",
        "class Bottleneck(nn.Module):\r\n",
        "    expansion = 4\r\n",
        "\r\n",
        "    def __init__(self, inplanes, planes, stride=1, downsample=None, head_conv=1):\r\n",
        "        super(Bottleneck, self).__init__()\r\n",
        "        if head_conv == 1:\r\n",
        "            self.conv1 = nn.Conv3d(inplanes, planes, kernel_size=1, bias=False)\r\n",
        "            self.bn1 = nn.BatchNorm3d(planes)\r\n",
        "        elif head_conv == 3:\r\n",
        "            self.conv1 = nn.Conv3d(inplanes, planes, kernel_size=(3, 1, 1), bias=False, padding=(1, 0, 0))\r\n",
        "            self.bn1 = nn.BatchNorm3d(planes)\r\n",
        "        else:\r\n",
        "            raise ValueError(\"Unsupported head_conv!\")\r\n",
        "        self.conv2 = nn.Conv3d(\r\n",
        "            planes, planes, kernel_size=(1, 3, 3), stride=(1,stride,stride), padding=(0, 1, 1), bias=False)\r\n",
        "        self.bn2 = nn.BatchNorm3d(planes)\r\n",
        "        self.conv3 = nn.Conv3d(planes, planes * 4, kernel_size=1, bias=False)\r\n",
        "        self.bn3 = nn.BatchNorm3d(planes * 4)\r\n",
        "        self.relu = nn.ReLU(inplace=True)\r\n",
        "        self.downsample = downsample\r\n",
        "        self.stride = stride\r\n",
        "\r\n",
        "    def forward(self, x):\r\n",
        "        residual = x\r\n",
        "\r\n",
        "        out = self.conv1(x)\r\n",
        "        out = self.bn1(out)\r\n",
        "        out = self.relu(out)\r\n",
        "\r\n",
        "        out = self.conv2(out)\r\n",
        "        out = self.bn2(out)\r\n",
        "        out = self.relu(out)\r\n",
        "\r\n",
        "        out = self.conv3(out)\r\n",
        "        out = self.bn3(out)\r\n",
        "\r\n",
        "        if self.downsample is not None:\r\n",
        "            residual = self.downsample(x)\r\n",
        "        out += residual\r\n",
        "        out = self.relu(out)\r\n",
        "\r\n",
        "        return out\r\n",
        "\r\n",
        "\r\n",
        "class SlowFast(nn.Module):\r\n",
        "    def __init__(self, block=Bottleneck, layers=[3, 4, 6, 3], class_num=10, dropout=0.5 ):\r\n",
        "        super(SlowFast, self).__init__()\r\n",
        "\r\n",
        "        self.fast_inplanes = 8\r\n",
        "        self.fast_conv1 = nn.Conv3d(3, 8, kernel_size=(5, 7, 7), stride=(1, 2, 2), padding=(2, 3, 3), bias=False)\r\n",
        "        self.fast_bn1 = nn.BatchNorm3d(8)\r\n",
        "        self.fast_relu = nn.ReLU(inplace=True)\r\n",
        "        self.fast_maxpool = nn.MaxPool3d(kernel_size=(1, 3, 3), stride=(1, 2, 2), padding=(0, 1, 1))\r\n",
        "        self.fast_res2 = self._make_layer_fast(block, 8, layers[0], head_conv=3)\r\n",
        "        self.fast_res3 = self._make_layer_fast(\r\n",
        "            block, 16, layers[1], stride=2, head_conv=3)\r\n",
        "        self.fast_res4 = self._make_layer_fast(\r\n",
        "            block, 32, layers[2], stride=2, head_conv=3)\r\n",
        "        self.fast_res5 = self._make_layer_fast(\r\n",
        "            block, 64, layers[3], stride=2, head_conv=3)\r\n",
        "        \r\n",
        "        self.lateral_p1 = nn.Conv3d(8, 8*2, kernel_size=(5, 1, 1), stride=(8, 1 ,1), bias=False, padding=(2, 0, 0))\r\n",
        "        self.lateral_res2 = nn.Conv3d(32,32*2, kernel_size=(5, 1, 1), stride=(8, 1 ,1), bias=False, padding=(2, 0, 0))\r\n",
        "        self.lateral_res3 = nn.Conv3d(64,64*2, kernel_size=(5, 1, 1), stride=(8, 1 ,1), bias=False, padding=(2, 0, 0))\r\n",
        "        self.lateral_res4 = nn.Conv3d(128,128*2, kernel_size=(5, 1, 1), stride=(8, 1 ,1), bias=False, padding=(2, 0, 0))\r\n",
        "\r\n",
        "        self.slow_inplanes = 64+64//8*2\r\n",
        "        self.slow_conv1 = nn.Conv3d(3, 64, kernel_size=(1, 7, 7), stride=(1, 2, 2), padding=(0, 3, 3), bias=False)\r\n",
        "        self.slow_bn1 = nn.BatchNorm3d(64)\r\n",
        "        self.slow_relu = nn.ReLU(inplace=True)\r\n",
        "        self.slow_maxpool = nn.MaxPool3d(kernel_size=(1, 3, 3), stride=(1, 2, 2), padding=(0, 1, 1))\r\n",
        "        self.slow_res2 = self._make_layer_slow(block, 64, layers[0], head_conv=1)\r\n",
        "        self.slow_res3 = self._make_layer_slow(\r\n",
        "            block, 128, layers[1], stride=2, head_conv=1)\r\n",
        "        self.slow_res4 = self._make_layer_slow(\r\n",
        "            block, 256, layers[2], stride=2, head_conv=3)\r\n",
        "        self.slow_res5 = self._make_layer_slow(\r\n",
        "            block, 512, layers[3], stride=2, head_conv=3)\r\n",
        "        \r\n",
        "        self.dp = nn.Dropout(dropout)\r\n",
        "        self.fc = nn.Linear(self.fast_inplanes+2048, class_num, bias=False)\r\n",
        "    \r\n",
        "    def forward(self, input ):\r\n",
        "        fast, lateral = self.FastPath(input[:, :, ::1, :, :])\r\n",
        "        slow = self.SlowPath(input[:, :, ::8, :, :], lateral)\r\n",
        "        x = torch.cat([slow, fast], dim=1)\r\n",
        "        x = self.dp(x)\r\n",
        "        x = self.fc(x)\r\n",
        "        return x\r\n",
        "\r\n",
        "\r\n",
        "\r\n",
        "    def SlowPath(self, input, lateral):\r\n",
        "        x = self.slow_conv1(input)\r\n",
        "        x = self.slow_bn1(x)\r\n",
        "        x = self.slow_relu(x)\r\n",
        "        x = self.slow_maxpool(x)\r\n",
        "        x = torch.cat([x, lateral[0]],dim=1)\r\n",
        "        x = self.slow_res2(x)\r\n",
        "        x = torch.cat([x, lateral[1]],dim=1)\r\n",
        "        x = self.slow_res3(x)\r\n",
        "        x = torch.cat([x, lateral[2]],dim=1)\r\n",
        "        x = self.slow_res4(x)\r\n",
        "        x = torch.cat([x, lateral[3]],dim=1)\r\n",
        "        x = self.slow_res5(x)\r\n",
        "        x = nn.AdaptiveAvgPool3d(1)(x)\r\n",
        "        x = x.view(-1, x.size(1))\r\n",
        "        return x\r\n",
        "\r\n",
        "    def FastPath(self, input):\r\n",
        "        lateral = []\r\n",
        "        x = self.fast_conv1(input)\r\n",
        "        x = self.fast_bn1(x)\r\n",
        "        x = self.fast_relu(x)\r\n",
        "        pool1 = self.fast_maxpool(x)\r\n",
        "        lateral_p = self.lateral_p1(pool1)\r\n",
        "        lateral.append(lateral_p)\r\n",
        "\r\n",
        "        res2 = self.fast_res2(pool1)\r\n",
        "        lateral_res2 = self.lateral_res2(res2)\r\n",
        "        lateral.append(lateral_res2)\r\n",
        "        \r\n",
        "        res3 = self.fast_res3(res2)\r\n",
        "        lateral_res3 = self.lateral_res3(res3)\r\n",
        "        lateral.append(lateral_res3)\r\n",
        "\r\n",
        "        res4 = self.fast_res4(res3)\r\n",
        "        lateral_res4 = self.lateral_res4(res4)\r\n",
        "        lateral.append(lateral_res4)\r\n",
        "\r\n",
        "        res5 = self.fast_res5(res4)\r\n",
        "        x = nn.AdaptiveAvgPool3d(1)(res5)\r\n",
        "        x = x.view(-1, x.size(1))\r\n",
        "\r\n",
        "        return x, lateral\r\n",
        "\r\n",
        "    def _make_layer_fast(self, block, planes, blocks, stride=1, head_conv=1):\r\n",
        "        downsample = None\r\n",
        "        if stride != 1 or self.fast_inplanes != planes * block.expansion:\r\n",
        "            downsample = nn.Sequential(\r\n",
        "                nn.Conv3d(\r\n",
        "                    self.fast_inplanes,\r\n",
        "                    planes * block.expansion,\r\n",
        "                    kernel_size=1,\r\n",
        "                    stride=(1,stride,stride),\r\n",
        "                    bias=False), nn.BatchNorm3d(planes * block.expansion))\r\n",
        "\r\n",
        "        layers = []\r\n",
        "        layers.append(block(self.fast_inplanes, planes, stride, downsample, head_conv=head_conv))\r\n",
        "        self.fast_inplanes = planes * block.expansion\r\n",
        "        for i in range(1, blocks):\r\n",
        "            layers.append(block(self.fast_inplanes, planes, head_conv=head_conv))\r\n",
        "        return nn.Sequential(*layers)\r\n",
        "\r\n",
        "    def _make_layer_slow(self, block, planes, blocks, stride=1, head_conv=1):\r\n",
        "        downsample = None\r\n",
        "        if stride != 1 or self.slow_inplanes != planes * block.expansion:\r\n",
        "            downsample = nn.Sequential(\r\n",
        "                nn.Conv3d(\r\n",
        "                    self.slow_inplanes,\r\n",
        "                    planes * block.expansion,\r\n",
        "                    kernel_size=1,\r\n",
        "                    stride=(1,stride,stride),\r\n",
        "                    bias=False), nn.BatchNorm3d(planes * block.expansion))\r\n",
        "\r\n",
        "        layers = []\r\n",
        "        layers.append(block(self.slow_inplanes, planes, stride, downsample, head_conv=head_conv))\r\n",
        "        self.slow_inplanes = planes * block.expansion\r\n",
        "        for i in range(1, blocks):\r\n",
        "            layers.append(block(self.slow_inplanes, planes, head_conv=head_conv))\r\n",
        "  \r\n",
        "        self.slow_inplanes = planes * block.expansion + planes * block.expansion//8*2\r\n",
        "        return nn.Sequential(*layers)\r\n",
        "\r\n",
        "\r\n",
        "def resnet18(**kwargs):\r\n",
        "    \"\"\"Constructs a ResNet-18 model.\r\n",
        "    \"\"\"\r\n",
        "    model = SlowFast(Bottleneck, [2, 2, 2, 2], **kwargs)\r\n",
        "    return model\r\n",
        "\r\n",
        "def resnet50(**kwargs):\r\n",
        "    \"\"\"Constructs a ResNet-50 model.\r\n",
        "    \"\"\"\r\n",
        "    model = SlowFast(Bottleneck, [3, 4, 6, 3], **kwargs)\r\n",
        "    return model\r\n",
        "\r\n",
        "\r\n",
        "def resnet101(**kwargs):\r\n",
        "    \"\"\"Constructs a ResNet-101 model.\r\n",
        "    \"\"\"\r\n",
        "    model = SlowFast(Bottleneck, [3, 4, 23, 3], **kwargs)\r\n",
        "    return model\r\n",
        "\r\n",
        "\r\n",
        "def resnet152(**kwargs):\r\n",
        "    \"\"\"Constructs a ResNet-101 model.\r\n",
        "    \"\"\"\r\n",
        "    model = SlowFast(Bottleneck, [3, 8, 36, 3], **kwargs)\r\n",
        "    return model\r\n",
        "\r\n",
        "\r\n",
        "def resnet200(**kwargs):\r\n",
        "    \"\"\"Constructs a ResNet-101 model.\r\n",
        "    \"\"\"\r\n",
        "    model = SlowFast(Bottleneck, [3, 24, 36, 3], **kwargs)\r\n",
        "    return model\r\n",
        "\r\n",
        "model = resnet50()\r\n",
        "n_inputs = model.fc.in_features\r\n",
        "model.fc = nn.Linear(n_inputs, 10)"
      ],
      "execution_count": 5,
      "outputs": []
    },
    {
      "cell_type": "markdown",
      "metadata": {
        "id": "uKpTDWtyorUz"
      },
      "source": [
        "Training modello\n",
        "===="
      ]
    },
    {
      "cell_type": "code",
      "metadata": {
        "id": "VfNX6tByotkB"
      },
      "source": [
        "def train_one_epoch(model, optimizer, trainloader, epoch, num_epochs):\n",
        "  model.train()\n",
        "  running_loss = 0.0\n",
        "  train_correct = 0\n",
        "  \n",
        "  for batch_i,item in enumerate(trainloader):\n",
        "    video, target = item['video'], item['label']\n",
        "    target = torch.reshape(target, (-1,))\n",
        "    video, target = video.cuda(), target.cuda()\n",
        "    \n",
        "    optimizer.zero_grad()\n",
        "    outputs = model(video)\n",
        "    loss = criterion(outputs, target)\n",
        "    loss.backward()\n",
        "    optimizer.step()\n",
        "\n",
        "    _, predicted = torch.max(outputs.data, 1)\n",
        "    correct_lbls = (predicted == target).sum().item()\n",
        "    train_correct = train_correct + correct_lbls\n",
        "    running_loss = running_loss + loss.item()\n",
        "\n",
        "    # Print log\n",
        "    sys.stdout.write(\n",
        "      \"\\r[Epoch %d/%d] [Batch %d/%d] [Loss: %f (%f), Acc: %.2f%% (%.2f%%)] [lr: %.7f%%]\"\n",
        "      % (\n",
        "        epoch+1,\n",
        "        num_epochs,\n",
        "        batch_i,\n",
        "        len(trainloader),\n",
        "        loss.item(),\n",
        "        running_loss/(1+batch_i),\n",
        "        100*(correct_lbls/float(BATCH_TRAIN_SIZE)),\n",
        "        100*(train_correct/float(BATCH_TRAIN_SIZE*(1+batch_i))),\n",
        "        optimizer.param_groups[0]['lr']\n",
        "      )\n",
        "    )\n",
        "\n",
        "\n",
        "  return [running_loss, train_correct]\n",
        "\n",
        "\n",
        "def evaluate(model, validloader, isTestingPhase):\n",
        "  model.eval()\n",
        "  running_loss = 0.0\n",
        "  valid_correct = 0\n",
        "  if isTestingPhase:\n",
        "    predicts, labels = [],[]\n",
        "  \n",
        "  with torch.no_grad():\n",
        "    for item in validloader:\n",
        "      video, target = item['video'], item['label']\n",
        "      target = torch.reshape(target, (-1,))\n",
        "      \n",
        "      video, target = video.cuda(), target.cuda()\n",
        "      # INFERENCE CALCULATING\n",
        "      outputs = model(video)\n",
        "      val_loss = criterion(outputs, target)\n",
        "\n",
        "      # MONITORING ACCURACY AND LOSS      \n",
        "      _, predicted = torch.max(outputs.data, 1)\n",
        "      valid_correct = valid_correct + (predicted == target).sum().item()\n",
        "      running_loss += val_loss.item()\n",
        "\n",
        "      if isTestingPhase:\n",
        "        predicts.append(predicted.data)\n",
        "        labels.append(target.data)\n",
        "\n",
        "  if isTestingPhase:\n",
        "    return [(predicts, labels), running_loss, valid_correct]\n",
        "  \n",
        "  else:\n",
        "    return [None, running_loss, valid_correct]"
      ],
      "execution_count": 5,
      "outputs": []
    },
    {
      "cell_type": "code",
      "metadata": {
        "id": "MRwSz0Y0p_oM"
      },
      "source": [
        "%ls drive/MyDrive/*.pth"
      ],
      "execution_count": null,
      "outputs": []
    },
    {
      "cell_type": "code",
      "metadata": {
        "id": "Kt8rbG_mdpfH",
        "outputId": "fded8eac-7c97-433a-92e3-1baacf7363b4",
        "colab": {
          "base_uri": "https://localhost:8080/"
        }
      },
      "source": [
        "model = torchvision.models.video.r2plus1d_18(pretrained=True, progress=True)\r\n",
        "\r\n",
        "n_inputs = model.fc.in_features\r\n",
        "print(n_inputs)\r\n",
        "model.fc = nn.Linear(n_inputs, 10)"
      ],
      "execution_count": 8,
      "outputs": [
        {
          "output_type": "stream",
          "text": [
            "512\n"
          ],
          "name": "stdout"
        }
      ]
    },
    {
      "cell_type": "code",
      "metadata": {
        "id": "gHy3wyv9owPu",
        "outputId": "3293c3da-98d3-497e-c12c-624284e434ed",
        "colab": {
          "base_uri": "https://localhost:8080/"
        }
      },
      "source": [
        "# SVUOTO LA CACHE\n",
        "torch.cuda.empty_cache()\n",
        "\n",
        "# COSTRUISCO OPTIMIZER: learning rate, optimizer e scheluder lr \n",
        "lr = 1e-3\n",
        "optimizer = torch.optim.SGD(model.parameters(),lr=lr,momentum=.9,weight_decay=1e-5)\n",
        "lr_scheduler = torch.optim.lr_scheduler.StepLR(optimizer, step_size=7, gamma=0.1) # classico\n",
        "# lr_scheduler = ReduceLROnPlateau(optimizer, mode='min', patience=5, factor=0.1, min_lr=1e-6) # varia lr su plateau\n",
        "\n",
        "# COSTRUISCO CRITERIO DI LOSS: pesi per ds sbilanciato e criterion\n",
        "y_train = [v for k,v in train_set]\n",
        "weights = torch.FloatTensor(compute_class_weight('balanced', np.unique(y_train), y_train )).cuda()\n",
        "criterion = nn.CrossEntropyLoss()\n",
        "\n",
        "# DEFINISCO PARAMETRI DI TRAINING E VALIDATION\n",
        "starting_epoch = 0 # numero epoca di partenza\n",
        "EPOCHS=70\n",
        "tr_loss, val_loss = [], []\n",
        "tr_accs, val_accs = [], []\n",
        "\n",
        "# RECUPERO EPOCHE SALVATE\n",
        "restore = False\n",
        "if(restore):\n",
        "  checkpoint_init = torch.load('drive/MyDrive/Copia di _SlowFast_SGD_lr0.001_e12_1614555421.pth')\n",
        "  starting_epoch = checkpoint_init['epoch'] + 1 \n",
        "  model.load_state_dict(checkpoint_init['model_state_dict'])\n",
        "  optimizer.load_state_dict(checkpoint_init['optimizer_state_dict'])\n",
        "  criterion = checkpoint_init['loss']\n",
        "  lr_scheduler.load_state_dict(checkpoint_init['scheduler'])\n",
        "  tr_loss, val_loss = checkpoint_init['losses']\n",
        "  tr_accs, val_accs = checkpoint_init['accs']\n",
        "\n",
        "print()\n",
        "print(\"val_set_size: \" + str(test_size), end =\" + \")\n",
        "print(str(new_W)+\"x\"+str(new_H), end =\" + \")\n",
        "print(model.__class__.__name__, end =\" + \")\n",
        "print(optimizer.param_groups[0]['lr'], end =\" + \")\n",
        "print(optimizer.__class__.__name__, end =\" + \")\n",
        "print(lr_scheduler.__class__.__name__, end =\" + \")\n",
        "print(criterion.__class__.__name__)\n",
        "if not restore: \n",
        "  print(\" + \" + \"from scratch!\")\n",
        "else:\n",
        "  print(\" + \" + \"not from scratch!\")\n",
        "\n",
        "# INIZIO ADDESTRAMENTO\n",
        "model.cuda()\n",
        "for epoch in range(starting_epoch, EPOCHS):\n",
        "  # TRAIN FOR ONE EPOCH\n",
        "  start_time = time.time()\n",
        "  train_loss, train_correct = train_one_epoch(model, optimizer, trainLoader, epoch, EPOCHS)\n",
        "  \n",
        "  # VALIDATE RESULT\n",
        "  _, valid_loss, valid_correct = evaluate(model, validLoader, isTestingPhase=False)\n",
        "\n",
        "  # STEP TO APPLY LEARNING SCHEDULER\n",
        "  lr_scheduler.step() \n",
        "  # lr_scheduler.step( valid_loss/float(len(validLoader)) )\n",
        "\n",
        "  print(\n",
        "      f' [Val_loss = {valid_loss/float(len(validLoader)):0.7f},'\n",
        "      f' Val_acc = {100*valid_correct/float(len(validLoader)*BATCH_TEST_SIZE):0.7f}]',\n",
        "      f'in {time.time()-start_time:.2f} sec'\n",
        "  )\n",
        "\n",
        "  tr_loss.append(train_loss/float(len(trainLoader)))\n",
        "  val_loss.append(valid_loss/float(len(validLoader)))\n",
        "  tr_accs.append(float(train_correct)/float(len(trainLoader)*BATCH_TRAIN_SIZE))\n",
        "  val_accs.append(float(valid_correct)/float(len(validLoader)*BATCH_TEST_SIZE))\n",
        "\n",
        "  checkpoint = {\n",
        "            'epoch': epoch,\n",
        "            'model_state_dict': model.state_dict(),\n",
        "            'optimizer_state_dict': optimizer.state_dict(),\n",
        "            'loss': criterion,\n",
        "            'scheduler':lr_scheduler.state_dict(),\n",
        "            'losses': (tr_loss, val_loss),\n",
        "            'accs': (tr_accs, val_accs)\n",
        "  }\n",
        "\n",
        "  path=\"drive/MyDrive/\"\n",
        "  lr_ = optimizer.param_groups[0]['lr']\n",
        "  t = str(round(time.time()))\n",
        "  torch.save(checkpoint, path+'_'+model.__class__.__name__+'_'+optimizer.__class__.__name__+'_lr'+str(lr_)+'_e'+str(epoch)+'_'+t+'.pth')\n",
        "  print(t,end=\"\")\n",
        "\n",
        "plt.plot(tr_loss, label='Training loss', c='r')\n",
        "plt.plot(val_loss, label='Validation loss', c='b')\n",
        "plt.legend(frameon=False)\n",
        "plt.show()\n",
        "\n",
        "plt.plot(tr_accs, label='Training accuracy', c='r')\n",
        "plt.plot(val_accs, label='Validation accuracy', c='b')\n",
        "plt.legend(frameon=False)\n",
        "plt.show()"
      ],
      "execution_count": null,
      "outputs": [
        {
          "output_type": "stream",
          "text": [
            "\n",
            "val_set_size: 0.2 + 112x112 + VideoResNet + 0.001 + SGD + StepLR + CrossEntropyLoss\n",
            " + from scratch!\n",
            "[Epoch 1/70] [Batch 1297/1298] [Loss: 0.693074 (1.174613), Acc: 68.75% (58.91%)] [lr: 0.0010000%] [Val_loss = 2.1988276, Val_acc = 38.5000000] in 3953.72 sec\n",
            "[Epoch 2/70] [Batch 118/1298] [Loss: 0.920048 (0.746086), Acc: 81.25% (74.21%)] [lr: 0.0010000%]"
          ],
          "name": "stdout"
        }
      ]
    },
    {
      "cell_type": "markdown",
      "metadata": {
        "id": "kd5xj_h5MfBC"
      },
      "source": [
        "Testing\n",
        "==="
      ]
    },
    {
      "cell_type": "code",
      "metadata": {
        "id": "rUrSjxbFMhyc"
      },
      "source": [
        "outputTargetTuple, test_loss, test_correct = evaluate(model, testLoader, isTestingPhase=True)\n",
        "y_pred, y_true = torch.cat(outputTargetTuple[0]).cpu().detach().numpy(), torch.cat(outputTargetTuple[1]).cpu().detach().numpy() \n",
        "print(f'Accuracy = {(test_correct/float(len(testLoader)*BATCH_TEST_SIZE))*100}%')\n",
        "print(classification_report(y_true=y_true, y_pred=y_pred, zero_division=0))"
      ],
      "execution_count": null,
      "outputs": []
    }
  ]
}